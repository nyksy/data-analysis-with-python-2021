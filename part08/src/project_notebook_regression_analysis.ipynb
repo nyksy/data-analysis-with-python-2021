{
 "cells": [
  {
   "cell_type": "markdown",
   "source": [
    "# Linear regression"
   ],
   "metadata": {}
  },
  {
   "cell_type": "markdown",
   "source": [
    "Import all the modules you will need in this notebook here:"
   ],
   "metadata": {}
  },
  {
   "cell_type": "code",
   "execution_count": 250,
   "source": [
    "# exercise 0\r\n",
    "# Put your solution here!\r\n",
    "import matplotlib.pyplot as plt\r\n",
    "import pandas as pd\r\n",
    "import numpy as np\r\n",
    "import statsmodels\r\n",
    "import statsmodels.api as sm\r\n",
    "import statsmodels.formula.api as smf\r\n",
    "from statsmodels.graphics.regressionplots import abline_plot"
   ],
   "outputs": [],
   "metadata": {}
  },
  {
   "cell_type": "markdown",
   "source": [
    "We continue analysing the `fram` heart disease data.\n",
    "\n",
    "First load the data, use the name `fram` for the DataFrame variable. Make sure that in the data you loaded the column and row headers are in place. Checkout the summary of the variables using the `describe` method."
   ],
   "metadata": {}
  },
  {
   "cell_type": "code",
   "execution_count": 251,
   "source": [
    "# exercise 1\r\n",
    "def get_path(filename):\r\n",
    "    import sys\r\n",
    "    import os\r\n",
    "    prog_name = sys.argv[0]\r\n",
    "    if os.path.basename(prog_name) == \"__main__.py\":   # Running under TMC\r\n",
    "        return os.path.join(os.path.dirname(prog_name), \"..\", \"src\", filename)\r\n",
    "    else:\r\n",
    "        return filename\r\n",
    "    \r\n",
    "# Put your solution here!\r\n",
    "path = get_path('fram.txt')\r\n",
    "\r\n",
    "fram = pd.read_csv(path, sep='\\t')\r\n",
    "fram.describe()"
   ],
   "outputs": [
    {
     "output_type": "execute_result",
     "data": {
      "text/plain": [
       "                ID          AGE          FRW          SBP       SBP10  \\\n",
       "count  1394.000000  1394.000000  1394.000000  1394.000000  767.000000   \n",
       "mean   4737.184362    52.431133   105.365136   148.086083  148.040417   \n",
       "std    1073.406896     4.781507    17.752489    28.022062   25.706664   \n",
       "min    1070.000000    45.000000    52.000000    90.000000   94.000000   \n",
       "25%    3890.250000    48.000000    94.000000   130.000000  130.000000   \n",
       "50%    4821.000000    52.000000   103.000000   142.000000  145.000000   \n",
       "75%    5641.750000    56.000000   114.000000   160.000000  160.000000   \n",
       "max    6442.000000    62.000000   222.000000   300.000000  264.000000   \n",
       "\n",
       "               DBP         CHOL          CIG          CHD        DEATH  \\\n",
       "count  1394.000000  1394.000000  1394.000000  1394.000000  1394.000000   \n",
       "mean     90.135581   234.644907     8.029412     1.187948     1.700861   \n",
       "std      14.226235    46.303822    11.584138     2.615976     3.203132   \n",
       "min      50.000000    96.000000     0.000000     0.000000     0.000000   \n",
       "25%      80.000000   200.000000     0.000000     0.000000     0.000000   \n",
       "50%      90.000000   230.000000     0.000000     0.000000     0.000000   \n",
       "75%      98.000000   264.000000    20.000000     0.000000     0.000000   \n",
       "max     160.000000   430.000000    60.000000    10.000000    10.000000   \n",
       "\n",
       "           YRS_DTH  \n",
       "count  1394.000000  \n",
       "mean     16.219512  \n",
       "std       3.921413  \n",
       "min       1.000000  \n",
       "25%      18.000000  \n",
       "50%      18.000000  \n",
       "75%      18.000000  \n",
       "max      18.000000  "
      ],
      "text/html": [
       "<div>\n",
       "<style scoped>\n",
       "    .dataframe tbody tr th:only-of-type {\n",
       "        vertical-align: middle;\n",
       "    }\n",
       "\n",
       "    .dataframe tbody tr th {\n",
       "        vertical-align: top;\n",
       "    }\n",
       "\n",
       "    .dataframe thead th {\n",
       "        text-align: right;\n",
       "    }\n",
       "</style>\n",
       "<table border=\"1\" class=\"dataframe\">\n",
       "  <thead>\n",
       "    <tr style=\"text-align: right;\">\n",
       "      <th></th>\n",
       "      <th>ID</th>\n",
       "      <th>AGE</th>\n",
       "      <th>FRW</th>\n",
       "      <th>SBP</th>\n",
       "      <th>SBP10</th>\n",
       "      <th>DBP</th>\n",
       "      <th>CHOL</th>\n",
       "      <th>CIG</th>\n",
       "      <th>CHD</th>\n",
       "      <th>DEATH</th>\n",
       "      <th>YRS_DTH</th>\n",
       "    </tr>\n",
       "  </thead>\n",
       "  <tbody>\n",
       "    <tr>\n",
       "      <th>count</th>\n",
       "      <td>1394.000000</td>\n",
       "      <td>1394.000000</td>\n",
       "      <td>1394.000000</td>\n",
       "      <td>1394.000000</td>\n",
       "      <td>767.000000</td>\n",
       "      <td>1394.000000</td>\n",
       "      <td>1394.000000</td>\n",
       "      <td>1394.000000</td>\n",
       "      <td>1394.000000</td>\n",
       "      <td>1394.000000</td>\n",
       "      <td>1394.000000</td>\n",
       "    </tr>\n",
       "    <tr>\n",
       "      <th>mean</th>\n",
       "      <td>4737.184362</td>\n",
       "      <td>52.431133</td>\n",
       "      <td>105.365136</td>\n",
       "      <td>148.086083</td>\n",
       "      <td>148.040417</td>\n",
       "      <td>90.135581</td>\n",
       "      <td>234.644907</td>\n",
       "      <td>8.029412</td>\n",
       "      <td>1.187948</td>\n",
       "      <td>1.700861</td>\n",
       "      <td>16.219512</td>\n",
       "    </tr>\n",
       "    <tr>\n",
       "      <th>std</th>\n",
       "      <td>1073.406896</td>\n",
       "      <td>4.781507</td>\n",
       "      <td>17.752489</td>\n",
       "      <td>28.022062</td>\n",
       "      <td>25.706664</td>\n",
       "      <td>14.226235</td>\n",
       "      <td>46.303822</td>\n",
       "      <td>11.584138</td>\n",
       "      <td>2.615976</td>\n",
       "      <td>3.203132</td>\n",
       "      <td>3.921413</td>\n",
       "    </tr>\n",
       "    <tr>\n",
       "      <th>min</th>\n",
       "      <td>1070.000000</td>\n",
       "      <td>45.000000</td>\n",
       "      <td>52.000000</td>\n",
       "      <td>90.000000</td>\n",
       "      <td>94.000000</td>\n",
       "      <td>50.000000</td>\n",
       "      <td>96.000000</td>\n",
       "      <td>0.000000</td>\n",
       "      <td>0.000000</td>\n",
       "      <td>0.000000</td>\n",
       "      <td>1.000000</td>\n",
       "    </tr>\n",
       "    <tr>\n",
       "      <th>25%</th>\n",
       "      <td>3890.250000</td>\n",
       "      <td>48.000000</td>\n",
       "      <td>94.000000</td>\n",
       "      <td>130.000000</td>\n",
       "      <td>130.000000</td>\n",
       "      <td>80.000000</td>\n",
       "      <td>200.000000</td>\n",
       "      <td>0.000000</td>\n",
       "      <td>0.000000</td>\n",
       "      <td>0.000000</td>\n",
       "      <td>18.000000</td>\n",
       "    </tr>\n",
       "    <tr>\n",
       "      <th>50%</th>\n",
       "      <td>4821.000000</td>\n",
       "      <td>52.000000</td>\n",
       "      <td>103.000000</td>\n",
       "      <td>142.000000</td>\n",
       "      <td>145.000000</td>\n",
       "      <td>90.000000</td>\n",
       "      <td>230.000000</td>\n",
       "      <td>0.000000</td>\n",
       "      <td>0.000000</td>\n",
       "      <td>0.000000</td>\n",
       "      <td>18.000000</td>\n",
       "    </tr>\n",
       "    <tr>\n",
       "      <th>75%</th>\n",
       "      <td>5641.750000</td>\n",
       "      <td>56.000000</td>\n",
       "      <td>114.000000</td>\n",
       "      <td>160.000000</td>\n",
       "      <td>160.000000</td>\n",
       "      <td>98.000000</td>\n",
       "      <td>264.000000</td>\n",
       "      <td>20.000000</td>\n",
       "      <td>0.000000</td>\n",
       "      <td>0.000000</td>\n",
       "      <td>18.000000</td>\n",
       "    </tr>\n",
       "    <tr>\n",
       "      <th>max</th>\n",
       "      <td>6442.000000</td>\n",
       "      <td>62.000000</td>\n",
       "      <td>222.000000</td>\n",
       "      <td>300.000000</td>\n",
       "      <td>264.000000</td>\n",
       "      <td>160.000000</td>\n",
       "      <td>430.000000</td>\n",
       "      <td>60.000000</td>\n",
       "      <td>10.000000</td>\n",
       "      <td>10.000000</td>\n",
       "      <td>18.000000</td>\n",
       "    </tr>\n",
       "  </tbody>\n",
       "</table>\n",
       "</div>"
      ]
     },
     "metadata": {},
     "execution_count": 251
    }
   ],
   "metadata": {}
  },
  {
   "cell_type": "markdown",
   "source": [
    "Create function `rescale` that takes a Series as parameter. It should center the data and normalize it by dividing\n",
    "by 2$\\sigma$, where $\\sigma$ is the standard deviation. Return the rescaled Series."
   ],
   "metadata": {}
  },
  {
   "cell_type": "code",
   "execution_count": 252,
   "source": [
    "# exercise 2\r\n",
    "# Put your solution here!\r\n",
    "def rescale(series): \r\n",
    "    #centering\r\n",
    "    series = series - series.mean()\r\n",
    "\r\n",
    "    #applying standard deviation\r\n",
    "    return series / (2 * series.std())"
   ],
   "outputs": [],
   "metadata": {}
  },
  {
   "cell_type": "markdown",
   "source": [
    "Add to the DataFrame the scaled versions of all the continuous variables (with function `rescale`). Add small letter `s` in front of the original variable name to get the name of the scaled variable. For instance, `AGE` -> `sAGE`."
   ],
   "metadata": {}
  },
  {
   "cell_type": "code",
   "execution_count": 253,
   "source": [
    "# exercise 3\r\n",
    "# Put your solution here!\r\n",
    "cols_before = fram.columns\r\n",
    "print('columns before:', len(fram.columns))\r\n",
    "\r\n",
    "fram['sAGE'] = rescale(fram['AGE'])\r\n",
    "fram['sFRW'] = rescale(fram['FRW'])\r\n",
    "fram['sSBP'] = rescale(fram['SBP'])\r\n",
    "fram['sDBP'] = rescale(fram['DBP'])\r\n",
    "fram['sCHOL'] = rescale(fram['CHOL'])\r\n",
    "fram['sCIG'] = rescale(fram['CIG'])\r\n",
    "\r\n",
    "print('columns after:', len(fram.columns))\r\n",
    "#set difference between columns before and after scaling\r\n",
    "print('new columns:', set(fram.columns) - set(cols_before))"
   ],
   "outputs": [
    {
     "output_type": "stream",
     "name": "stdout",
     "text": [
      "columns before: 14\n",
      "columns after: 20\n",
      "new columns: {'sCIG', 'sAGE', 'sFRW', 'sCHOL', 'sDBP', 'sSBP'}\n"
     ]
    }
   ],
   "metadata": {}
  },
  {
   "cell_type": "markdown",
   "source": [
    "Form a model that predicts systolic blood pressure using weight, gender, and cholesterol level as explanatory variables. Store the fitted model in variable named `fit`."
   ],
   "metadata": {}
  },
  {
   "cell_type": "code",
   "execution_count": 254,
   "source": [
    "# exercise 4\r\n",
    "# Put your solution here!\r\n",
    "fit = smf.ols('SBP ~ sFRW + SEX + sCHOL', data=fram).fit()\r\n",
    "print(fit.summary())"
   ],
   "outputs": [
    {
     "output_type": "stream",
     "name": "stdout",
     "text": [
      "                            OLS Regression Results                            \n",
      "==============================================================================\n",
      "Dep. Variable:                    SBP   R-squared:                       0.125\n",
      "Model:                            OLS   Adj. R-squared:                  0.123\n",
      "Method:                 Least Squares   F-statistic:                     66.37\n",
      "Date:                Tue, 13 Jul 2021   Prob (F-statistic):           4.13e-40\n",
      "Time:                        14:43:20   Log-Likelihood:                -6530.4\n",
      "No. Observations:                1394   AIC:                         1.307e+04\n",
      "Df Residuals:                    1390   BIC:                         1.309e+04\n",
      "Df Model:                           3                                         \n",
      "Covariance Type:            nonrobust                                         \n",
      "===============================================================================\n",
      "                  coef    std err          t      P>|t|      [0.025      0.975]\n",
      "-------------------------------------------------------------------------------\n",
      "Intercept     150.0199      0.985    152.336      0.000     148.088     151.952\n",
      "SEX[T.male]    -4.0659      1.451     -2.803      0.005      -6.912      -1.220\n",
      "sFRW           17.7205      1.426     12.431      0.000      14.924      20.517\n",
      "sCHOL           4.9169      1.431      3.436      0.001       2.110       7.724\n",
      "==============================================================================\n",
      "Omnibus:                      327.612   Durbin-Watson:                   1.774\n",
      "Prob(Omnibus):                  0.000   Jarque-Bera (JB):              843.676\n",
      "Skew:                           1.237   Prob(JB):                    6.28e-184\n",
      "Kurtosis:                       5.899   Cond. No.                         2.79\n",
      "==============================================================================\n",
      "\n",
      "Notes:\n",
      "[1] Standard Errors assume that the covariance matrix of the errors is correctly specified.\n"
     ]
    }
   ],
   "metadata": {}
  },
  {
   "cell_type": "markdown",
   "source": [
    "Add the variable AGE to the model and inspect the estimates of the coefficients using the `summary` method of the fitted model. Again use the name `fit` for the fitted model. (From now on assume that we always use the name `fit` for the variable of the fitted model.)"
   ],
   "metadata": {}
  },
  {
   "cell_type": "code",
   "execution_count": 255,
   "source": [
    "# exercise 5\r\n",
    "# Put your solution here! \r\n",
    "fit = smf.ols('SBP ~ sFRW + SEX + sCHOL + sAGE', data=fram).fit()\r\n",
    "print(fit.summary())"
   ],
   "outputs": [
    {
     "output_type": "stream",
     "name": "stdout",
     "text": [
      "                            OLS Regression Results                            \n",
      "==============================================================================\n",
      "Dep. Variable:                    SBP   R-squared:                       0.146\n",
      "Model:                            OLS   Adj. R-squared:                  0.144\n",
      "Method:                 Least Squares   F-statistic:                     59.39\n",
      "Date:                Tue, 13 Jul 2021   Prob (F-statistic):           2.44e-46\n",
      "Time:                        14:43:20   Log-Likelihood:                -6513.6\n",
      "No. Observations:                1394   AIC:                         1.304e+04\n",
      "Df Residuals:                    1389   BIC:                         1.306e+04\n",
      "Df Model:                           4                                         \n",
      "Covariance Type:            nonrobust                                         \n",
      "===============================================================================\n",
      "                  coef    std err          t      P>|t|      [0.025      0.975]\n",
      "-------------------------------------------------------------------------------\n",
      "Intercept     150.1695      0.974    154.221      0.000     148.259     152.080\n",
      "SEX[T.male]    -4.3805      1.435     -3.053      0.002      -7.195      -1.566\n",
      "sFRW           16.9771      1.415     11.999      0.000      14.202      19.753\n",
      "sCHOL           4.2696      1.419      3.009      0.003       1.486       7.053\n",
      "sAGE            8.1332      1.400      5.810      0.000       5.387      10.879\n",
      "==============================================================================\n",
      "Omnibus:                      321.087   Durbin-Watson:                   1.807\n",
      "Prob(Omnibus):                  0.000   Jarque-Bera (JB):              840.955\n",
      "Skew:                           1.206   Prob(JB):                    2.45e-183\n",
      "Kurtosis:                       5.944   Cond. No.                         2.82\n",
      "==============================================================================\n",
      "\n",
      "Notes:\n",
      "[1] Standard Errors assume that the covariance matrix of the errors is correctly specified.\n"
     ]
    }
   ],
   "metadata": {}
  },
  {
   "cell_type": "markdown",
   "source": [
    "How much does the inclusion of age increase the explanatory power of the model? Which variables explain the variance of the target variable most?\r\n",
    "\r\n",
    "***\r\n",
    "Inclusion of age increases the explanatory power by 0.021 units, which is the difference of the two R-squared measured (0.146 - 0.125).  \r\n",
    "sFRW and sAGE seem to affect the target variable most, because of their coefficients are much larger.\r\n",
    "***"
   ],
   "metadata": {}
  },
  {
   "cell_type": "markdown",
   "source": [
    "Try to add to the model all the interactions with other variables. "
   ],
   "metadata": {}
  },
  {
   "cell_type": "code",
   "execution_count": 256,
   "source": [
    "# exercise 6\r\n",
    "# Put your solution here!\r\n",
    "fit = smf.ols('SBP ~ sFRW + SEX + sFRW:SEX + sCHOL + sCHOL:SEX + sCHOL:sFRW + sAGE + sAGE:sFRW + sAGE:SEX + sAGE:sCHOL', \r\n",
    "data=fram\r\n",
    ").fit()"
   ],
   "outputs": [],
   "metadata": {}
  },
  {
   "cell_type": "markdown",
   "source": [
    "Then visualize the model as the function of weight for the youngest (sAGE=-1.0), middle aged (sAGE=0.0), and oldest (sAGE=1.0) women while assuming the background variables to be centered. Remember to consider the changes in the intercept and in the regression coefficient caused by age. Visualize both the data points and the fitted lines."
   ],
   "metadata": {}
  },
  {
   "cell_type": "code",
   "execution_count": 257,
   "source": [
    "# exercise 7\r\n",
    "# Put your solution here!\r\n",
    "\r\n",
    "#params\r\n",
    "p = fit.params \r\n",
    "\r\n",
    "#scatter\r\n",
    "fram[fram.SEX==\"female\"].plot.scatter(\"sFRW\",\"SBP\")\r\n",
    "\r\n",
    "#lines\r\n",
    "abline_plot(\r\n",
    "    intercept=p.Intercept-p[\"sAGE\"], \r\n",
    "    slope=p.sFRW-p[\"sAGE:sFRW\"],\r\n",
    "    ax=plt.gca(), \r\n",
    "    color=\"blue\", \r\n",
    "    label=\"young\"\r\n",
    ")\r\n",
    "abline_plot(\r\n",
    "    intercept=p.Intercept, \r\n",
    "    slope=p.sFRW,\r\n",
    "    ax=plt.gca(), \r\n",
    "    color=\"magenta\", \r\n",
    "    label=\"middle-aged\"\r\n",
    ")\r\n",
    "abline_plot(\r\n",
    "    intercept=p.Intercept+p[\"sAGE\"], \r\n",
    "    slope=p.sFRW+p[\"sAGE:sFRW\"],\r\n",
    "    ax=plt.gca(), \r\n",
    "    color=\"red\", \r\n",
    "    label=\"old\"\r\n",
    ")\r\n",
    "plt.legend()\r\n"
   ],
   "outputs": [
    {
     "output_type": "execute_result",
     "data": {
      "text/plain": [
       "<matplotlib.legend.Legend at 0x2b236533880>"
      ]
     },
     "metadata": {},
     "execution_count": 257
    },
    {
     "output_type": "display_data",
     "data": {
      "text/plain": [
       "<Figure size 432x288 with 1 Axes>"
      ],
      "image/png": "[encoded data removed]"
     },
     "metadata": {
      "needs_background": "light"
     }
    }
   ],
   "metadata": {}
  },
  {
   "cell_type": "markdown",
   "source": [
    "How does the dependence of blood pressure on weight change as a person gets older?\r\n",
    "***\r\n",
    "\r\n",
    "As a person gets older, the blood pressure of a person increases. The dependence of blood pressure on weight, on the other hand, seems to decrease as a person gets older.\r\n",
    "\r\n",
    "***"
   ],
   "metadata": {}
  },
  {
   "cell_type": "markdown",
   "source": [
    "### Even more accurate model\n",
    "\n",
    "Include the background variable `sCIG` from the data and its interactions. Visualize the model for systolic blood pressure as the function of the most important explanatory variable. Visualize separate lines for the small (-1.0), average (0.0), and large (1.0) values of `sCHOL`. Other variables can be assumed to be at their mean value."
   ],
   "metadata": {}
  },
  {
   "cell_type": "code",
   "execution_count": 258,
   "source": [
    "# exercise 8\r\n",
    "# Put your solution here!\r\n",
    "fit = smf.ols('SBP ~ sFRW + SEX + sFRW:SEX + sCHOL + sCHOL:SEX + sCHOL:sFRW + sAGE + sAGE:sFRW + sAGE:SEX + sAGE:sCHOL + sCIG + sCIG:sFRW + sCIG:SEX + sCIG:sCHOL + sCIG:sAGE', \r\n",
    "data=fram\r\n",
    ").fit()\r\n",
    "\r\n",
    "print(fit.summary())\r\n",
    "\r\n",
    "#params\r\n",
    "p = fit.params \r\n",
    "\r\n",
    "#sFRW seems to have the highest std coef\r\n",
    "#scatter\r\n",
    "fram[fram.SEX==\"female\"].plot.scatter(\"sFRW\",\"SBP\")\r\n",
    "\r\n",
    "#lines\r\n",
    "abline_plot(\r\n",
    "    intercept=p.Intercept-p[\"sCHOL\"], \r\n",
    "    slope=p.sFRW-p[\"sCHOL:sFRW\"],\r\n",
    "    ax=plt.gca(), \r\n",
    "    color=\"blue\", \r\n",
    "    label=\"low\"\r\n",
    ")\r\n",
    "abline_plot(\r\n",
    "    intercept=p.Intercept, \r\n",
    "    slope=p.sFRW,\r\n",
    "    ax=plt.gca(), \r\n",
    "    color=\"magenta\", \r\n",
    "    label=\"mid\"\r\n",
    ")\r\n",
    "abline_plot(\r\n",
    "    intercept=p.Intercept+p[\"sCHOL\"], \r\n",
    "    slope=p.sFRW+p[\"sCHOL:sFRW\"],\r\n",
    "    ax=plt.gca(), \r\n",
    "    color=\"red\", \r\n",
    "    label=\"high\"\r\n",
    ")\r\n",
    "plt.legend()\r\n"
   ],
   "outputs": [
    {
     "output_type": "stream",
     "name": "stdout",
     "text": [
      "                            OLS Regression Results                            \n",
      "==============================================================================\n",
      "Dep. Variable:                    SBP   R-squared:                       0.152\n",
      "Model:                            OLS   Adj. R-squared:                  0.143\n",
      "Method:                 Least Squares   F-statistic:                     16.50\n",
      "Date:                Tue, 13 Jul 2021   Prob (F-statistic):           2.99e-40\n",
      "Time:                        14:43:21   Log-Likelihood:                -6508.6\n",
      "No. Observations:                1394   AIC:                         1.305e+04\n",
      "Df Residuals:                    1378   BIC:                         1.313e+04\n",
      "Df Model:                          15                                         \n",
      "Covariance Type:            nonrobust                                         \n",
      "=====================================================================================\n",
      "                        coef    std err          t      P>|t|      [0.025      0.975]\n",
      "-------------------------------------------------------------------------------------\n",
      "Intercept           151.3182      1.160    130.456      0.000     149.043     153.594\n",
      "SEX[T.male]          -5.3834      1.598     -3.368      0.001      -8.519      -2.248\n",
      "sFRW                 17.6415      1.866      9.455      0.000      13.981      21.302\n",
      "sFRW:SEX[T.male]     -0.1140      3.441     -0.033      0.974      -6.865       6.637\n",
      "sCHOL                 3.2957      1.965      1.677      0.094      -0.559       7.151\n",
      "sCHOL:SEX[T.male]     1.4369      3.142      0.457      0.648      -4.727       7.600\n",
      "sCHOL:sFRW            4.8912      2.735      1.788      0.074      -0.475      10.257\n",
      "sAGE                 10.3615      2.119      4.890      0.000       6.205      14.518\n",
      "sAGE:SEX[T.male]     -4.4248      3.179     -1.392      0.164     -10.661       1.811\n",
      "sAGE:sFRW            -1.8501      2.848     -0.650      0.516      -7.437       3.737\n",
      "sAGE:sCHOL           -4.8509      3.091     -1.569      0.117     -10.914       1.212\n",
      "sCIG                  3.7733      3.106      1.215      0.225      -2.319       9.865\n",
      "sCIG:SEX[T.male]     -3.9094      3.599     -1.086      0.278     -10.970       3.151\n",
      "sCIG:sFRW             3.6765      3.373      1.090      0.276      -2.941      10.294\n",
      "sCIG:sCHOL           -1.6344      3.368     -0.485      0.628      -8.242       4.973\n",
      "sCIG:sAGE            -0.3247      3.143     -0.103      0.918      -6.490       5.840\n",
      "==============================================================================\n",
      "Omnibus:                      303.518   Durbin-Watson:                   1.802\n",
      "Prob(Omnibus):                  0.000   Jarque-Bera (JB):              750.095\n",
      "Skew:                           1.164   Prob(JB):                    1.32e-163\n",
      "Kurtosis:                       5.738   Cond. No.                         7.93\n",
      "==============================================================================\n",
      "\n",
      "Notes:\n",
      "[1] Standard Errors assume that the covariance matrix of the errors is correctly specified.\n"
     ]
    },
    {
     "output_type": "execute_result",
     "data": {
      "text/plain": [
       "<matplotlib.legend.Legend at 0x2b2382f1520>"
      ]
     },
     "metadata": {},
     "execution_count": 258
    },
    {
     "output_type": "display_data",
     "data": {
      "text/plain": [
       "<Figure size 432x288 with 1 Axes>"
      ],
      "image/png": "[encoded data removed]"
     },
     "metadata": {
      "needs_background": "light"
     }
    }
   ],
   "metadata": {}
  },
  {
   "cell_type": "markdown",
   "source": [
    "How does the model and its accuracy look?\r\n",
    "\r\n",
    "***\r\n",
    "\r\n",
    "The accuracy of the model does not look particularly good. R-squared is only 0.152, which is quite low.\r\n",
    "***"
   ],
   "metadata": {}
  },
  {
   "cell_type": "markdown",
   "source": [
    "# Logistic regression"
   ],
   "metadata": {}
  },
  {
   "cell_type": "code",
   "execution_count": 259,
   "source": [
    "def logistic(x):\r\n",
    "    return 1.0 / (1.0 + np.exp(-x))"
   ],
   "outputs": [],
   "metadata": {}
  },
  {
   "cell_type": "markdown",
   "source": [
    "We will continue predicting high blood pressure by taking in some continuous background variables, such as the age."
   ],
   "metadata": {}
  },
  {
   "cell_type": "markdown",
   "source": [
    "Recreate the model `HIGH_BP ~ sFRW + SEX + SEX:sFRW` presented in the introduction. Make sure, that you get the same results. Use name `fit` for the fitted model. Compute and store the error rate into variable `error_rate_orig`."
   ],
   "metadata": {}
  },
  {
   "cell_type": "code",
   "execution_count": 260,
   "source": [
    "# exercise 9\r\n",
    "# Put your solution here!\r\n",
    "\r\n",
    "#HIGH_BP column\r\n",
    "fram['HIGH_BP'] = (fram.SBP >= 140) | (fram.DBP >= 90)\r\n",
    "fram.HIGH_BP = fram.HIGH_BP.astype('int')\r\n",
    "\r\n",
    "fit = smf.glm(\r\n",
    "    formula='HIGH_BP ~ sFRW + SEX + SEX:sFRW', \r\n",
    "    data=fram, \r\n",
    "    family=sm.families.Binomial()\r\n",
    ").fit()\r\n",
    "\r\n",
    "#error rate\r\n",
    "error_rate_orig = np.mean(\r\n",
    "    ((fit.fittedvalues < 0.5) & fram.HIGH_BP) | \r\n",
    "    ((fit.fittedvalues > 0.5) & ~fram.HIGH_BP)\r\n",
    ")\r\n",
    "\r\n",
    "print(fit.summary())"
   ],
   "outputs": [
    {
     "output_type": "stream",
     "name": "stdout",
     "text": [
      "                 Generalized Linear Model Regression Results                  \n",
      "==============================================================================\n",
      "Dep. Variable:                HIGH_BP   No. Observations:                 1394\n",
      "Model:                            GLM   Df Residuals:                     1390\n",
      "Model Family:                Binomial   Df Model:                            3\n",
      "Link Function:                  logit   Scale:                          1.0000\n",
      "Method:                          IRLS   Log-Likelihood:                -856.87\n",
      "Date:                Tue, 13 Jul 2021   Deviance:                       1713.7\n",
      "Time:                        14:43:22   Pearson chi2:                 1.39e+03\n",
      "No. Iterations:                     4                                         \n",
      "Covariance Type:            nonrobust                                         \n",
      "====================================================================================\n",
      "                       coef    std err          z      P>|z|      [0.025      0.975]\n",
      "------------------------------------------------------------------------------------\n",
      "Intercept            0.7631      0.082      9.266      0.000       0.602       0.925\n",
      "SEX[T.male]         -0.1624      0.120     -1.350      0.177      -0.398       0.073\n",
      "sFRW                 1.0738      0.176      6.095      0.000       0.728       1.419\n",
      "SEX[T.male]:sFRW     0.2709      0.287      0.943      0.346      -0.292       0.834\n",
      "====================================================================================\n"
     ]
    }
   ],
   "metadata": {}
  },
  {
   "cell_type": "markdown",
   "source": [
    "Add the `sAGE` variable and its interactions. Check the prediction accuracy of the model and compare it to the previous model. Store the prediction accuracy to variable `error_rate`."
   ],
   "metadata": {}
  },
  {
   "cell_type": "code",
   "execution_count": 261,
   "source": [
    "# exercise 10\r\n",
    "# Put your solution here!\r\n",
    "fit = smf.glm(\r\n",
    "    formula='HIGH_BP ~ sFRW + SEX + SEX:sFRW + sAGE + sAGE:sFRW + sAGE:SEX',\r\n",
    "    data=fram,\r\n",
    "    family=sm.families.Binomial()\r\n",
    ").fit()\r\n",
    "\r\n",
    "fit.summary()\r\n",
    "\r\n",
    "error_rate = np.mean(\r\n",
    "    ((fit.fittedvalues < 0.5) & fram.HIGH_BP) |\r\n",
    "    ((fit.fittedvalues > 0.5) & ~fram.HIGH_BP)\r\n",
    ")\r\n",
    "\r\n",
    "print('Original error rate:', error_rate_orig)\r\n",
    "print('Current:', error_rate)\r\n",
    "print('Difference (original - current):', error_rate_orig - error_rate)\r\n"
   ],
   "outputs": [
    {
     "output_type": "stream",
     "name": "stdout",
     "text": [
      "Original error rate: 0.35581061692969873\n",
      "Current: 0.3278335724533716\n",
      "Difference (original - current): 0.02797704447632715\n"
     ]
    }
   ],
   "metadata": {}
  },
  {
   "cell_type": "markdown",
   "source": [
    "Visualize the predicted probability of high blood pressure as the function of weight. Remember to use normalized values (`rescale`) also for those variables that are not included in the visualization, so that sensible values are used for them (data average). Draw two figures with altogether six curves: young, middle aged, and old women; and young, middle aged, and old men. Use `plt.subplots`. (Plotting works in similar fashion as in the introduction. The argument factors need, however, be changed as in the example about visualisation of continuous variable.) "
   ],
   "metadata": {}
  },
  {
   "cell_type": "code",
   "execution_count": 262,
   "source": [
    "# exercise 11\r\n",
    "\r\n",
    "def logistic(x):\r\n",
    "    return 1.0 / (1.0 + np.exp(-x))\r\n",
    "\r\n",
    "\r\n",
    "# Put your solution here!\r\n",
    "fig, ax = plt.subplots(\r\n",
    "    1, 2, subplot_kw={'xlabel': 'sFRW', 'ylabel': 'HIGH BP'}, figsize=(20, 10))\r\n",
    "\r\n",
    "X = np.linspace(-2, 4, 100)\r\n",
    "\r\n",
    "p = fit.params\r\n",
    "\r\n",
    "# plot 1.\r\n",
    "ax[0].scatter(\r\n",
    "    fram.sFRW[((fram.SEX == \"female\"))],\r\n",
    "    fram.HIGH_BP[(fram.SEX == \"female\")],\r\n",
    "    marker=\"d\"\r\n",
    ")\r\n",
    "\r\n",
    "ax[0].plot(X, logistic(X * p.sFRW + p.Intercept - p['sAGE']), label=\"young\")\r\n",
    "ax[0].plot(X, logistic(X * p.sFRW + p.Intercept), label=\"middle aged\")\r\n",
    "ax[0].plot(X, logistic(X * p.sFRW + p.Intercept + p['sAGE']), label=\"old\")\r\n",
    "\r\n",
    "ax[0].set_title('women')\r\n",
    "\r\n",
    "ax[0].legend()\r\n",
    "\r\n",
    "# plot 2.\r\n",
    "ax[1].scatter(\r\n",
    "    fram.sFRW[((fram.SEX == \"male\"))],\r\n",
    "    fram.HIGH_BP[(fram.SEX == \"male\")],\r\n",
    "    marker=\"d\"\r\n",
    ")\r\n",
    "ax[1].plot(X, logistic(X*(p.sFRW + p[\"SEX[T.male]:sFRW\"]) +\r\n",
    "           p[\"SEX[T.male]\"] + p.Intercept - p['sAGE']), label=\"young\")\r\n",
    "ax[1].plot(X, logistic(X*(p.sFRW + p[\"SEX[T.male]:sFRW\"]) +\r\n",
    "           p[\"SEX[T.male]\"] + p.Intercept), label=\"middle aged\")\r\n",
    "ax[1].plot(X, logistic(X*(p.sFRW + p[\"SEX[T.male]:sFRW\"]+p['sAGE']) +\r\n",
    "           p[\"SEX[T.male]\"] + p.Intercept), label=\"old\")\r\n",
    "\r\n",
    "ax[1].set_title('men')\r\n",
    "\r\n",
    "ax[1].legend()\r\n"
   ],
   "outputs": [
    {
     "output_type": "execute_result",
     "data": {
      "text/plain": [
       "<matplotlib.legend.Legend at 0x2b238378ca0>"
      ]
     },
     "metadata": {},
     "execution_count": 262
    },
    {
     "output_type": "display_data",
     "data": {
      "text/plain": [
       "<Figure size 1440x720 with 2 Axes>"
      ],
      "image/png": "[encoded data removed]"
     },
     "metadata": {
      "needs_background": "light"
     }
    }
   ],
   "metadata": {}
  },
  {
   "cell_type": "markdown",
   "source": [
    "How do the models with different ages and genders differ from each other?\r\n",
    "\r\n",
    "***\r\n",
    "\r\n",
    "Younger women who have lowerr weight seem to have higher chance of having high blood pressure compared to men.\r\n",
    "\r\n",
    "***"
   ],
   "metadata": {}
  },
  {
   "cell_type": "markdown",
   "source": [
    "Create here a helper function `train_test_split` that gets a DataFrame as parameter and return a pair of DataFrames: one for training and the second for testing. \n",
    "The function should get parameters in the following way:\n",
    "```python\n",
    "train_test_split(df, train_fraction=0.8)\n",
    "```\n",
    "The data should be split randomly to training and testing DataFrames so that `train_fraction` fraction of data should go into the training set. Use the `sample` method of the DataFrame."
   ],
   "metadata": {}
  },
  {
   "cell_type": "code",
   "execution_count": 263,
   "source": [
    "# exercise 12\r\n",
    "# Put your solution here!\r\n",
    "def train_test_split(df, train_fraction=0.8):\r\n",
    "\r\n",
    "    #sampling\r\n",
    "    train = df.sample(frac=train_fraction)\r\n",
    "    #dropping the sampled values from the original\r\n",
    "    test = df.drop(train.index)\r\n",
    "    \r\n",
    "    return train, test\r\n"
   ],
   "outputs": [],
   "metadata": {}
  },
  {
   "cell_type": "markdown",
   "source": [
    "Check the prediction accuracy of your model using cross validation. Use 100-fold cross validation and training_fraction 0.8."
   ],
   "metadata": {}
  },
  {
   "cell_type": "code",
   "execution_count": 264,
   "source": [
    "# exercise 13\r\n",
    "np.random.seed(1)\r\n",
    "# Put your solution here!\r\n",
    "\r\n",
    "error_model = []\r\n",
    "error_null = []\r\n",
    "\r\n",
    "for i in range(100):\r\n",
    "    error_rate = []\r\n",
    "\r\n",
    "    # splitting the data\r\n",
    "    train, test = train_test_split(fram, 0.8)\r\n",
    "\r\n",
    "    # using train-data to fit\r\n",
    "    fit = smf.glm(\r\n",
    "        formula=\"HIGH_BP ~ sFRW + SEX + sFRW:SEX + sAGE + sFRW:sAGE + SEX:sAGE\",\r\n",
    "        data=train,\r\n",
    "        family=sm.families.Binomial()\r\n",
    "    ).fit()\r\n",
    "\r\n",
    "    pred = fit.predict(test, transform=True)\r\n",
    "\r\n",
    "    error_rate = np.mean(((pred < 0.5) & (test.HIGH_BP == 1))\r\n",
    "                         | ((pred > 0.5) & (test.HIGH_BP == 0)))\r\n",
    "    error_model.append(error_rate)\r\n",
    "    error_null.append((1 - test.HIGH_BP).mean())\r\n",
    "\r\n",
    "\r\n",
    "print(np.mean(error_model), np.mean(error_null))\r\n",
    "\r\n",
    "statsmodels.stats.stattools.stats.mannwhitneyu(\r\n",
    "    error_model,\r\n",
    "    error_null,\r\n",
    "    alternative=\"two-sided\"\r\n",
    ")\r\n"
   ],
   "outputs": [
    {
     "output_type": "stream",
     "name": "stdout",
     "text": [
      "0.3311827956989247 0.3488530465949821\n"
     ]
    },
    {
     "output_type": "execute_result",
     "data": {
      "text/plain": [
       "MannwhitneyuResult(statistic=3020.0, pvalue=1.2819846293843994e-06)"
      ]
     },
     "metadata": {},
     "execution_count": 264
    }
   ],
   "metadata": {}
  },
  {
   "cell_type": "markdown",
   "source": [
    "## Predicting coronary heart disease\n",
    "\n",
    "Let us use again the same data to learn a model for the occurrence of coronary heart disease. We will use logistic regression to predict whether a patient *sometimes* shows symptoms of coronary heart disease. For this, add to the data a binary variable `hasCHD`, that describes the event (`CHD > 0`). The binary variable `hadCHD` can get only two values: 0 or 1. As a sanity check, compute the mean of this variable, which tells the number of positive cases."
   ],
   "metadata": {}
  },
  {
   "cell_type": "code",
   "execution_count": 265,
   "source": [
    "# exercise 14\r\n",
    "# Put your solution here!\r\n",
    "\r\n",
    "#mask to filter values\r\n",
    "condition = fram['CHD'] > 0\r\n",
    "\r\n",
    "# if condition == true, then 1, else 0, this way we don't have to convert boolean to int\r\n",
    "fram['hasCHD'] = np.where(condition, 1, 0)\r\n",
    "\r\n",
    "print('Value counts:\\n', fram.hasCHD.value_counts())\r\n",
    "print('hasCHD mean:\\n', np.mean(fram.hasCHD))"
   ],
   "outputs": [
    {
     "output_type": "stream",
     "name": "stdout",
     "text": [
      "Value counts:\n",
      " 0    1087\n",
      "1     307\n",
      "Name: hasCHD, dtype: int64\n",
      "hasCHD mean:\n",
      " 0.22022955523672882\n"
     ]
    }
   ],
   "metadata": {}
  },
  {
   "cell_type": "markdown",
   "source": [
    "Next, form a logistic regression model for variable `hasCHD` by using variables sCHOL, sCIG, and sFRW, and their interactions as explanatory variables. Store the fitted model to variable `fit`. Compute the prediction accuracy of the model, store it to variable `error_rate`."
   ],
   "metadata": {}
  },
  {
   "cell_type": "code",
   "execution_count": 266,
   "source": [
    "# exercise 15\r\n",
    "# Put your solution here!\r\n",
    "\r\n",
    "fit = smf.glm(\r\n",
    "    formula=\"hasCHD ~ sCHOL + sCIG + sFRW + sCHOL:sCIG + sCHOL:sFRW + sCIG:sFRW\", \r\n",
    "    data=fram, \r\n",
    "    family=sm.families.Binomial()\r\n",
    ").fit()\r\n",
    "\r\n",
    "print(fit.summary())\r\n",
    "\r\n",
    "error_rate = np.mean(\r\n",
    "    ((fit.fittedvalues < 0.5) & fram.hasCHD) |\r\n",
    "    ((fit.fittedvalues > 0.5) & ~fram.hasCHD)) \r\n",
    "\r\n",
    "print('Error rate:', format(error_rate, '.3f'))"
   ],
   "outputs": [
    {
     "output_type": "stream",
     "name": "stdout",
     "text": [
      "                 Generalized Linear Model Regression Results                  \n",
      "==============================================================================\n",
      "Dep. Variable:                 hasCHD   No. Observations:                 1394\n",
      "Model:                            GLM   Df Residuals:                     1387\n",
      "Model Family:                Binomial   Df Model:                            6\n",
      "Link Function:                  logit   Scale:                          1.0000\n",
      "Method:                          IRLS   Log-Likelihood:                -721.19\n",
      "Date:                Tue, 13 Jul 2021   Deviance:                       1442.4\n",
      "Time:                        14:43:26   Pearson chi2:                 1.39e+03\n",
      "No. Iterations:                     4                                         \n",
      "Covariance Type:            nonrobust                                         \n",
      "==============================================================================\n",
      "                 coef    std err          z      P>|z|      [0.025      0.975]\n",
      "------------------------------------------------------------------------------\n",
      "Intercept     -1.2888      0.067    -19.101      0.000      -1.421      -1.157\n",
      "sCHOL          0.3324      0.130      2.554      0.011       0.077       0.587\n",
      "sCIG           0.4613      0.126      3.666      0.000       0.215       0.708\n",
      "sFRW           0.4404      0.130      3.386      0.001       0.185       0.695\n",
      "sCHOL:sCIG    -0.1022      0.273     -0.374      0.708      -0.637       0.433\n",
      "sCHOL:sFRW     0.1359      0.239      0.568      0.570      -0.333       0.604\n",
      "sCIG:sFRW      0.1646      0.258      0.637      0.524      -0.342       0.671\n",
      "==============================================================================\n",
      "Error rate: 0.220\n"
     ]
    }
   ],
   "metadata": {}
  },
  {
   "cell_type": "markdown",
   "source": [
    "Visualize the model by using the most important explanator on the x axis. Visualize both the points (with `plt.scatter`)\n",
    "and the logistic curve (with `plt.plot`)."
   ],
   "metadata": {}
  },
  {
   "cell_type": "code",
   "execution_count": 267,
   "source": [
    "# exercise 16\r\n",
    "def logistic(x):\r\n",
    "    return 1.0 / (1.0 + np.exp(-x))\r\n",
    "\r\n",
    "\r\n",
    "# Put your solution here!\r\n",
    "p = fit.params\r\n",
    "X = np.linspace(0, max(fram.CIG), 100)\r\n",
    "jitter = np.random.uniform(low=-0.05, high=0.05, size=len(fram))\r\n",
    "\r\n",
    "plt.plot(X, logistic(X*p.sCIG + p.Intercept),\r\n",
    "         label='Cigarettes per day', color='red')\r\n",
    "plt.scatter(fram.CIG, fram.hasCHD + jitter, label='hasCHD', marker='d')\r\n",
    "\r\n",
    "plt.legend()\r\n"
   ],
   "outputs": [
    {
     "output_type": "execute_result",
     "data": {
      "text/plain": [
       "<matplotlib.legend.Legend at 0x2b236f8a1f0>"
      ]
     },
     "metadata": {},
     "execution_count": 267
    },
    {
     "output_type": "display_data",
     "data": {
      "text/plain": [
       "<Figure size 432x288 with 1 Axes>"
      ],
      "image/png": "[encoded data removed]"
     },
     "metadata": {
      "needs_background": "light"
     }
    }
   ],
   "metadata": {}
  },
  {
   "cell_type": "markdown",
   "source": [
    "Is the prediction accuracy of the model good or bad? Can we expect to have practical use of the model?\r\n",
    "***\r\n",
    "\r\n",
    "Error rate of the model is 0.22, so I think that the prediction accuracy is sufficient.  \r\n",
    "I think the model has some practical use. For example, we can see that even a few cigarettes seem to increase the probability of having a heart disease and after ten, it is almost sure based on the curve.\r\n",
    "\r\n",
    "***"
   ],
   "metadata": {}
  },
  {
   "cell_type": "markdown",
   "source": [
    "If a person has cholestherol 200, smokes 17 cigarets per day, and has weight 100, then what is the probability that he/she sometimes shows signs of coronal heart disease? Note that the model expects normalized values. Store the normalized values to dictionary called `point`. Store the probability in variable `predicted`."
   ],
   "metadata": {}
  },
  {
   "cell_type": "code",
   "execution_count": 268,
   "source": [
    "# exercise 17\r\n",
    "# Put your solution here!\r\n",
    "\r\n",
    "#normalized values into a dict\r\n",
    "point = {\r\n",
    "    'sCHOL': (200 - fram.CHOL.mean())/(2 * fram.CHOL.std()),\r\n",
    "    'sCIG': (17 - fram.CIG.mean())/(2 * fram.CIG.std()),\r\n",
    "    'sFRW': (100 - fram.FRW.mean())/(2 * fram.FRW.std()),\r\n",
    "}\r\n",
    "\r\n",
    "print('rescaled values:')\r\n",
    "[print(key,':',value) for key, value in point.items()]\r\n",
    "\r\n",
    "#predicting\r\n",
    "predicted = fit.predict(point)[0]\r\n",
    "\r\n",
    "print('\\nThe predicted probability is:', format(predicted, '.3f'))\r\n"
   ],
   "outputs": [
    {
     "output_type": "stream",
     "name": "stdout",
     "text": [
      "rescaled values:\n",
      "sCHOL : -0.37410417825308123\n",
      "sCIG : 0.3871927538102121\n",
      "sFRW : -0.15110941235605307\n",
      "\n",
      "The predicted probability is: 0.216\n"
     ]
    }
   ],
   "metadata": {}
  },
  {
   "cell_type": "code",
   "execution_count": null,
   "source": [],
   "outputs": [],
   "metadata": {}
  }
 ],
 "metadata": {
  "interpreter": {
   "hash": "50423b4742b9d62e97e7bb2c6ee314bc3484c828cd93891a7fbc2ab998a13128"
  },
  "kernelspec": {
   "display_name": "Python 3.8.8 64-bit ('base': conda)",
   "name": "python3"
  },
  "language_info": {
   "codemirror_mode": {
    "name": "ipython",
    "version": 3
   },
   "file_extension": ".py",
   "mimetype": "text/x-python",
   "name": "python",
   "nbconvert_exporter": "python",
   "pygments_lexer": "ipython3",
   "version": "3.8.8"
  }
 },
 "nbformat": 4,
 "nbformat_minor": 2
}